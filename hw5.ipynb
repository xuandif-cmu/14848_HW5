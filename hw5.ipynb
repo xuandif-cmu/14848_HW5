{
 "cells": [
  {
   "cell_type": "code",
   "execution_count": 1,
   "metadata": {},
   "outputs": [],
   "source": [
    "from pyspark import SparkConf,SparkContext\n",
    "import re, string"
   ]
  },
  {
   "cell_type": "code",
   "execution_count": 2,
   "metadata": {},
   "outputs": [],
   "source": [
    "stopwords = [\"they\", \"she\", \"he\", \"it\", \"the\", \"as\", \"is\", \"and\"]\n",
    "\n",
    "# =====================================\n",
    "#  word count specifications:\n",
    "#\n",
    "#  replaced all punctuation with whitespaces\n",
    "#  replaced ['s] with whitespace\n",
    "#\n",
    "#  e.g., \"what's your name?\" --> ['what', 'your', 'name']\n",
    "# =====================================\n",
    "         \n",
    "translator = str.maketrans(string.punctuation, ' '*len(string.punctuation))"
   ]
  },
  {
   "cell_type": "code",
   "execution_count": 3,
   "metadata": {},
   "outputs": [],
   "source": [
    "# create spark with necessary configuration\n",
    "conf = SparkConf ()\n",
    "sc = SparkContext.getOrCreate(conf = conf)\n",
    "\n",
    "# read file\n",
    "rdd = sc.wholeTextFiles(\"./Data/*/*\")\n",
    "\n",
    "# filter stop words\n",
    "rdd = rdd.flatMap(lambda x: [(word, x[0]) for word in x[1].lower().replace(\"'s\", \" \").translate(translator).split()])\\\n",
    "        .filter(lambda x: x[0] not in stopwords)\n",
    "\n",
    "# count sum value\n",
    "rdd = rdd.map(lambda x: (x, 1)).reduceByKey(lambda a, b: a + b)\\\n",
    "        .map(lambda x: (x[0][0], [(x[0][1], x[1])]))\\\n",
    "        .reduceByKey(lambda a, b: a + b)\n"
   ]
  },
  {
   "cell_type": "code",
   "execution_count": 4,
   "metadata": {},
   "outputs": [
    {
     "data": {
      "text/plain": [
       "[('project',\n",
       "  [('file:/notebooks/Data/Hugo/Miserables.txt', 92),\n",
       "   ('file:/notebooks/Data/Hugo/NotreDame_De_Paris.txt', 90),\n",
       "   ('file:/notebooks/Data/Tolstoy/anna_karenhina.txt', 90),\n",
       "   ('file:/notebooks/Data/shakespeare/comedies/tempest', 4),\n",
       "   ('file:/notebooks/Data/shakespeare/comedies/troilusandcressida', 2),\n",
       "   ('file:/notebooks/Data/shakespeare/comedies/winterstale', 1),\n",
       "   ('file:/notebooks/Data/shakespeare/histories/2kinghenryiv', 1),\n",
       "   ('file:/notebooks/Data/Tolstoy/war_and_peace.txt', 100),\n",
       "   ('file:/notebooks/Data/shakespeare/comedies/allswellthatendswell', 1),\n",
       "   ('file:/notebooks/Data/shakespeare/comedies/muchadoaboutnothing', 1),\n",
       "   ('file:/notebooks/Data/shakespeare/glossary', 1),\n",
       "   ('file:/notebooks/Data/shakespeare/tragedies/antonyandcleopatra', 1),\n",
       "   ('file:/notebooks/Data/shakespeare/tragedies/hamlet', 1)])]"
      ]
     },
     "execution_count": 4,
     "metadata": {},
     "output_type": "execute_result"
    }
   ],
   "source": [
    "rdd.take(1)"
   ]
  },
  {
   "cell_type": "code",
   "execution_count": 5,
   "metadata": {},
   "outputs": [],
   "source": [
    "rdd.coalesce(1).saveAsTextFile('./result')"
   ]
  },
  {
   "cell_type": "code",
   "execution_count": 15,
   "metadata": {},
   "outputs": [
    {
     "data": {
      "text/plain": [
       "['what', 'your', 'name']"
      ]
     },
     "execution_count": 15,
     "metadata": {},
     "output_type": "execute_result"
    }
   ],
   "source": [
    "# s = \"what's your name?\"\n",
    "# s.replace(\"'s\", \"\").translate(translator).split()"
   ]
  },
  {
   "cell_type": "code",
   "execution_count": null,
   "metadata": {},
   "outputs": [],
   "source": []
  }
 ],
 "metadata": {
  "kernelspec": {
   "display_name": "Python 3",
   "language": "python",
   "name": "python3"
  },
  "language_info": {
   "codemirror_mode": {
    "name": "ipython",
    "version": 3
   },
   "file_extension": ".py",
   "mimetype": "text/x-python",
   "name": "python",
   "nbconvert_exporter": "python",
   "pygments_lexer": "ipython3",
   "version": "3.7.9"
  }
 },
 "nbformat": 4,
 "nbformat_minor": 4
}
